{
 "cells": [
  {
   "cell_type": "markdown",
   "id": "b931f8b9",
   "metadata": {},
   "source": [
    "### Ситуация: фильтрация спама вхоящей корреспонденции почтового ящика.\n",
    "##### H0(гипотеза): данное, конкретное письмо - SPAM: т.е. Positive - маркер писма со спамом\n",
    "- True_Positive  - письмо со спамом помечено как письмо-спам\n",
    "- False_Positive - письмо со спамом помечено как письмо без спама (ошибка 1 рода) \n",
    "- False_Negative - письмо без спама помечено как письмо со спамом (ошибка 2 рода)\n",
    "- True_Negative  - письмо без спама помечено как письмо без спама"
   ]
  },
  {
   "cell_type": "markdown",
   "id": "d6a31c76",
   "metadata": {},
   "source": [
    "- Precision (точность) - метрика, демонстрирующая способность алгоритма отличать конкретно рассматриваемый класс от других\n",
    "- Precision = TP/(TP+FP)"
   ]
  },
  {
   "cell_type": "markdown",
   "id": "15b06252",
   "metadata": {},
   "source": [
    "- Recall (полнота) - метрика, демонстрирующая способность алгоритма онаруживать конкретно заданный класс\n",
    "- Recall = TP/(TP+FN) < == > TP/Num_Positive\n",
    "- Num_Positive = TP+FN (можно считать как количество объектов на картинке в эталонной разметке)  относительно одного класса"
   ]
  },
  {
   "cell_type": "code",
   "execution_count": 1,
   "id": "793ead17",
   "metadata": {},
   "outputs": [],
   "source": [
    "# https://towardsdatascience.com/map-mean-average-precision-might-confuse-you-5956f1bfa9e2"
   ]
  },
  {
   "cell_type": "code",
   "execution_count": 2,
   "id": "28763f96",
   "metadata": {},
   "outputs": [],
   "source": [
    "import numpy as np"
   ]
  },
  {
   "cell_type": "code",
   "execution_count": 3,
   "id": "c237e9a0",
   "metadata": {},
   "outputs": [],
   "source": [
    "# в нижеприведенных алгоритмах используется 2(из4-х)метрики: TP(TruePositive) и FP(FalsePositive)\n",
    "# !ВАЖНО т.к. данные алгоритмы используются для задач детекции объектов, метрики TP и FP будут иметь накопительных \n",
    "# формат(1 изображение != 1 объект на картинке), соответственно, TP и FP будут просчитываться для каждого объекта \n",
    "# на изображении.\n",
    "\n",
    "# основыне данные - матрица соответствия Precision/Recall"
   ]
  },
  {
   "cell_type": "code",
   "execution_count": 3,
   "id": "d7ae95a6",
   "metadata": {},
   "outputs": [],
   "source": [
    "def calculate_ap_every_point(rec, prec):\n",
    "    mrecall    = [0]; [mrecall.append(e)    for e in  rec]; mrecall.append(1)\n",
    "    mprecision = [0]; [mprecision.append(e) for e in prec]; mprecision.append(0)\n",
    "    \n",
    "    for i in range(len(mprecision) - 1, 0, -1):\n",
    "        mprecision[i - 1] = max(mprecision[i - 1], mprecision[i])\n",
    "    \n",
    "    ii = []\n",
    "    for i in range(len(mrecall) - 1):\n",
    "        if mrecall[1:][i] != mrecall[0:-1][i]:\n",
    "            ii.append(i + 1)\n",
    "    \n",
    "    # подобие ручного подсчета интеграла: \n",
    "    # mrecall[i] - mrecall[i - 1] - ширина столбца на графике precision/recall\n",
    "    # mprecision[i] - высота столбца на графике precision/recall\n",
    "    ap = 0\n",
    "    for i in ii:\n",
    "        ap = ap + np.sum((mrecall[i] - mrecall[i - 1]) * mprecision[i])\n",
    "        \n",
    "    return [ap, mprecision[0:len(mprecision) - 1], mrecall[0:len(mprecision) - 1], ii]"
   ]
  },
  {
   "cell_type": "code",
   "execution_count": 4,
   "id": "a5535fa1",
   "metadata": {},
   "outputs": [
    {
     "data": {
      "text/plain": [
       "[1.0, [1.0, 1.0, 1.0, 1.0], [0, 0.33333333, 0.66666667, 1.0], [1, 2, 3]]"
      ]
     },
     "execution_count": 4,
     "metadata": {},
     "output_type": "execute_result"
    }
   ],
   "source": [
    "recall = [0.33333333, 0.66666667, 1.]\n",
    "precision = [1., 1., 1.]\n",
    "r = calculate_ap_every_point(recall, precision)\n",
    "r"
   ]
  },
  {
   "cell_type": "code",
   "execution_count": 5,
   "id": "1f34965f",
   "metadata": {},
   "outputs": [],
   "source": [
    "# для случая подсчета AP на 11 точках:\n",
    "# \n",
    "def calculate_ap_11_point_interp(recall, precision, recall_vals=11):\n",
    "    mrec         = [e for e in recall]\n",
    "    mpre         = [e for e in precision]\n",
    "    rhoInterp    = []\n",
    "    recallValid  = []\n",
    "    # array([1.0, 0.9, 0.8, 0.7, 0.6, 0.5, 0.4, 0.3, 0.2, 0.1, 0.0])\n",
    "    recallValues = np.linspace(1, 0, recall_vals)\n",
    "    \n",
    "    for r in recallValues:\n",
    "        # ищет индексы из списка recall, значения которого больше порога r : 1.0, 0.9, 0.8 ...\n",
    "        argGreaterRecalls = np.argwhere(mrec[:] >= r)\n",
    "        pmax = 0\n",
    "        if argGreaterRecalls.size != 0:\n",
    "            # Если индексы имеются - выбирается минимальный индекс, по этому индексу берется \n",
    "            # слайс из precision, из слайса выбирается максимвльный по значению показатель\n",
    "            \n",
    "            # ---------------------------------------------------------\n",
    "            # !!! Вопрос по красным точкам решается тут\n",
    "            # ---------------------------------------------------------\n",
    "            pmax = max(mpre[argGreaterRecalls.min():])\n",
    "            \n",
    "        recallValid.append(r)\n",
    "        rhoInterp.append(pmax)\n",
    "    # By definition AP = sum(max(precision whose recall is above r))/11\n",
    "    ap = sum(rhoInterp) / len(recallValues)\n",
    "    \n",
    "    # Generating values for the plot\n",
    "    rvals = [recallValid[0]]; [rvals.append(e) for e in recallValid]; rvals.append(0)\n",
    "    pvals =              [0]; [pvals.append(e) for e in   rhoInterp]; pvals.append(0)\n",
    "    cc = []\n",
    "    for i in range(len(rvals)):\n",
    "        p = (rvals[i], pvals[i - 1])\n",
    "        if p not in cc:\n",
    "            cc.append(p)\n",
    "        p = (rvals[i], pvals[i])\n",
    "        if p not in cc:\n",
    "            cc.append(p)\n",
    "    recallValues = [i[0] for i in cc]\n",
    "    rhoInterp = [i[1] for i in cc]\n",
    "    \n",
    "    return [ap, rhoInterp, recallValues, None]"
   ]
  },
  {
   "cell_type": "code",
   "execution_count": 6,
   "id": "37aee640",
   "metadata": {
    "scrolled": true
   },
   "outputs": [
    {
     "data": {
      "text/plain": [
       "[1.0,\n",
       " [0, 1.0, 1.0, 1.0, 1.0, 1.0, 1.0, 1.0, 1.0, 1.0, 1.0, 1.0, 0],\n",
       " [1.0,\n",
       "  1.0,\n",
       "  0.9,\n",
       "  0.8,\n",
       "  0.7,\n",
       "  0.6,\n",
       "  0.5,\n",
       "  0.3999999999999999,\n",
       "  0.29999999999999993,\n",
       "  0.19999999999999996,\n",
       "  0.09999999999999998,\n",
       "  0.0,\n",
       "  0],\n",
       " None]"
      ]
     },
     "execution_count": 6,
     "metadata": {},
     "output_type": "execute_result"
    }
   ],
   "source": [
    "recall = [0.33333333, 0.66666667, 1.]\n",
    "precision = [1., 1., 1.]\n",
    "r = calculate_ap_11_point_interp(recall, precision, recall_vals=11)\n",
    "r"
   ]
  },
  {
   "cell_type": "code",
   "execution_count": null,
   "id": "4e7cf5cc",
   "metadata": {},
   "outputs": [],
   "source": []
  }
 ],
 "metadata": {
  "kernelspec": {
   "display_name": "Python 3",
   "language": "python",
   "name": "python3"
  },
  "language_info": {
   "codemirror_mode": {
    "name": "ipython",
    "version": 3
   },
   "file_extension": ".py",
   "mimetype": "text/x-python",
   "name": "python",
   "nbconvert_exporter": "python",
   "pygments_lexer": "ipython3",
   "version": "3.9.2"
  }
 },
 "nbformat": 4,
 "nbformat_minor": 5
}
