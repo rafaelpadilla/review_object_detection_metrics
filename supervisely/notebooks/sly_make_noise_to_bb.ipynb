{
 "cells": [
  {
   "cell_type": "markdown",
   "id": "edfbc015",
   "metadata": {},
   "source": [
    "# Make noise to bb coords"
   ]
  },
  {
   "cell_type": "code",
   "execution_count": 1,
   "id": "3f0139ab",
   "metadata": {},
   "outputs": [],
   "source": [
    "import os\n",
    "import shutil\n",
    "import random\n",
    "\n",
    "def noise_coefficient(max_deviation): \n",
    "    cfcnt = 1 + random.randint(-max_deviation, max_deviation)/100\n",
    "    return cfcnt"
   ]
  },
  {
   "cell_type": "code",
   "execution_count": 2,
   "id": "d47d6031",
   "metadata": {},
   "outputs": [
    {
     "data": {
      "text/plain": [
       "['gts_coco_format',\n",
       " 'dets_classid_abs_xyx2y2',\n",
       " 'voc.names',\n",
       " 'dets_classname_abs_xywh',\n",
       " 'images',\n",
       " 'results.py',\n",
       " 'Annotations',\n",
       " 'dets_classname_abs_xyx2y2',\n",
       " 'dets_classid_abs_xywh',\n",
       " 'kiwi_lemon.names',\n",
       " 'dets_classid_rel_xcycwh',\n",
       " 'dets_coco_format',\n",
       " 'evaluate_bbs.py',\n",
       " 'JPEGImages',\n",
       " 'dets_classname_rel_xcycwh',\n",
       " 'gts_vocpascal_format',\n",
       " 'drawing_bbs.py',\n",
       " 'dets_classid_abs_xyx2y2_kiwi_lemons']"
      ]
     },
     "execution_count": 2,
     "metadata": {},
     "output_type": "execute_result"
    }
   ],
   "source": [
    "path = '../../toyexample'\n",
    "os.listdir(path)"
   ]
  },
  {
   "cell_type": "code",
   "execution_count": 3,
   "id": "1e994107",
   "metadata": {
    "scrolled": true
   },
   "outputs": [],
   "source": [
    "clear_predictions_path  = '../../toyexample/dets_classid_abs_xyx2y2_kiwi_lemons'\n",
    "noised_predictions_path = clear_predictions_path+'_noised'\n",
    "if os.path.exists(noised_predictions_path):\n",
    "    try:\n",
    "        shutil.rmtree(noised_predictions_path)\n",
    "    except OSError:\n",
    "        os.remove(noised_predictions_path)\n",
    "os.makedirs(noised_predictions_path, exist_ok=True)"
   ]
  },
  {
   "cell_type": "code",
   "execution_count": 4,
   "id": "8fe4b8fe",
   "metadata": {},
   "outputs": [],
   "source": [
    "max_deviation = 5"
   ]
  },
  {
   "cell_type": "code",
   "execution_count": 5,
   "id": "e3684928",
   "metadata": {},
   "outputs": [],
   "source": [
    "for file in os.listdir(clear_predictions_path):\n",
    "    with open(os.path.join(clear_predictions_path, file), 'r') as f:\n",
    "        data = [line.replace('\\n', '') for line in f]\n",
    "        noised_data = []\n",
    "        for element in data:\n",
    "            splitted_line = element.split()\n",
    "            # print(splitted_line)\n",
    "            class_id = splitted_line[0]\n",
    "            score    = splitted_line[1]\n",
    "            xmin     = int(int(splitted_line[2]) * noise_coefficient(max_deviation))\n",
    "            ymin     = int(int(splitted_line[3]) * noise_coefficient(max_deviation))\n",
    "            xmax     = int(int(splitted_line[4]) * noise_coefficient(max_deviation))\n",
    "            ymax     = int(int(splitted_line[5]) * noise_coefficient(max_deviation))\n",
    "            noised_data.append('{} {} {} {} {} {}'.format(class_id, score, xmin, ymin, xmax, ymax))\n",
    "    with open(os.path.join(noised_predictions_path, file), 'w') as f:\n",
    "        for el in noised_data:\n",
    "            f.write(el+'\\n')"
   ]
  },
  {
   "cell_type": "code",
   "execution_count": null,
   "id": "fd535cd3",
   "metadata": {},
   "outputs": [],
   "source": []
  }
 ],
 "metadata": {
  "kernelspec": {
   "display_name": "Python 3",
   "language": "python",
   "name": "python3"
  },
  "language_info": {
   "codemirror_mode": {
    "name": "ipython",
    "version": 3
   },
   "file_extension": ".py",
   "mimetype": "text/x-python",
   "name": "python",
   "nbconvert_exporter": "python",
   "pygments_lexer": "ipython3",
   "version": "3.9.2"
  }
 },
 "nbformat": 4,
 "nbformat_minor": 5
}
