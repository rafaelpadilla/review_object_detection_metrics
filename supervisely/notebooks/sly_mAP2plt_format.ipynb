{
 "cells": [
  {
   "cell_type": "code",
   "execution_count": 1,
   "id": "db575201",
   "metadata": {},
   "outputs": [],
   "source": [
    "import matplotlib.pyplot as plt\n",
    "import numpy as np\n",
    "import os\n",
    "\n",
    "from dotenv import load_dotenv\n",
    "from dotenv import dotenv_values\n",
    "from collections import namedtuple\n",
    "import json\n",
    "import yaml\n",
    "import supervisely_lib as sly\n",
    "\n",
    "secret_dotenv_file = 'secret_debug.env'\n",
    "load_dotenv(secret_dotenv_file)\n",
    "dotenv_file = 'debug.env'\n",
    "load_dotenv(dotenv_file)\n",
    "\n",
    "import sys\n",
    "sys.path.append('../')\n",
    "from src.bounding_box import BoundingBox\n",
    "from src.utils.enumerators import BBFormat, BBType, CoordinatesType\n",
    "from src.evaluators.pascal_voc_evaluator import get_pascalvoc_metrics\n",
    "from src.utils.enumerators import MethodAveragePrecision"
   ]
  },
  {
   "cell_type": "code",
   "execution_count": 2,
   "id": "6b1d5b9d",
   "metadata": {},
   "outputs": [],
   "source": [
    "api: sly.Api = sly.Api.from_env()\n",
    "app: sly.AppService = sly.AppService()"
   ]
  },
  {
   "cell_type": "code",
   "execution_count": 3,
   "id": "ed3d0f8d",
   "metadata": {},
   "outputs": [],
   "source": [
    "task_id = os.environ['TASK_ID']\n",
    "src_project_id = os.environ['modal.state.slySrcProjectId']\n",
    "dst_project_id = os.environ['modal.state.slyDstProjectId']"
   ]
  },
  {
   "cell_type": "code",
   "execution_count": 4,
   "id": "e2c4c428",
   "metadata": {},
   "outputs": [],
   "source": [
    "src_project = app.public_api.project.get_info_by_id(src_project_id)\n",
    "if src_project is None:\n",
    "    raise RuntimeError(f\"Project id={src_project_id} not found\")\n",
    "    \n",
    "dst_project = app.public_api.project.get_info_by_id(dst_project_id)\n",
    "if dst_project is None:\n",
    "    raise RuntimeError(f\"Project id={dst_project_id} not found\")"
   ]
  },
  {
   "cell_type": "code",
   "execution_count": 5,
   "id": "ec1679fc",
   "metadata": {},
   "outputs": [],
   "source": [
    "result = namedtuple('Result', ['TP', 'FP', 'Precision', 'Recall', 'AP'])\n",
    "def dict2tuple(dictionary, round_level = 4):\n",
    "    FP = 0\n",
    "    TP = 0\n",
    "    npos = 0\n",
    "    for dict_ in dictionary['per_class']:\n",
    "        dict__ = dictionary['per_class'][dict_]\n",
    "        FP += dict__['total FP']\n",
    "        TP += dict__['total TP']\n",
    "        npos += dict__['total positives']\n",
    "    AP = round(dictionary['mAP'], round_level)\n",
    "    Recall = round(TP / npos, round_level)\n",
    "    Precision = round(np.divide(TP, (FP + TP)), round_level)\n",
    "    return result(TP, FP, Precision, Recall, AP)\n",
    "\n",
    "\n",
    "def plt2bb(batch_element,\n",
    "           type_coordinates = CoordinatesType.ABSOLUTE, \n",
    "           bb_type          = BBType.GROUND_TRUTH, \n",
    "           format           = BBFormat.XYX2Y2):\n",
    "    # type_coordinates = CoordinatesType.X : ABSOLUTE, RELATIVE\n",
    "    # bb_type          = BBType.X          : GROUND_TRUTH, DETECTED\n",
    "    # format           = BBFormat.X        : XYX2Y2, XYWH, PASCAL_XML, YOLO\n",
    "    ret = []\n",
    "    annotations = batch_element.annotation['objects']\n",
    "    for ann in annotations:\n",
    "        classTitle = ann['classTitle']\n",
    "        points = ann['points']['exterior']\n",
    "        x1,y1 = points[0]\n",
    "        x2,y2 = points[1]\n",
    "        confidence = None if bb_type == BBType.GROUND_TRUTH else ann['tags'][0]['value']\n",
    "        bb = BoundingBox(image_name      = batch_element.image_name,\n",
    "                         class_id        = classTitle,\n",
    "                         coordinates     = (x1, y1, x2, y2),\n",
    "                         type_coordinates= type_coordinates,\n",
    "                         img_size        = (batch_element.annotation['size']['width'], \n",
    "                                            batch_element.annotation['size']['height']),\n",
    "                         confidence      = confidence,\n",
    "                         bb_type         = bb_type,\n",
    "                         format          = format)\n",
    "        ret.append(bb)\n",
    "    return ret"
   ]
  },
  {
   "cell_type": "code",
   "execution_count": 6,
   "id": "71e786d6",
   "metadata": {
    "scrolled": true
   },
   "outputs": [],
   "source": [
    "round_level = 4 # round(target_value, round_level): round(0.123456, round_level) --> 0.1235\n",
    "ious = [0.5, 0.75] # list of IOU thresholds\n",
    "\n",
    "# statistic data structure\n",
    "struct = namedtuple('Set_mAP', ['name', 'mAP_05', 'mAP_075'])\n",
    "\n",
    "# storage lists for images, datasets, projects\n",
    "image_mAP   = [] # image_name   + mAP_05 + mAP_075\n",
    "dataset_mAP = [] # dataset_name + mAP_05 + mAP_075\n",
    "project_mAP = [] # project_name + mAP_05 + mAP_075\n",
    "\n",
    "project_gts_bbs    = []\n",
    "project_det_bbs    = []\n",
    "\n",
    "for src, dst in zip(api.dataset.get_list(src_project.id), api.dataset.get_list(dst_project.id)):\n",
    "    src_images = api.image.get_list(src.id)\n",
    "    dst_images = api.image.get_list(dst.id)\n",
    "    \n",
    "    dataset_gts_bbs    = []\n",
    "    dataset_det_bbs    = []\n",
    "   \n",
    "    for src_batch, dst_batch in zip(sly.batched(src_images, batch_size=10), \n",
    "                                    sly.batched(dst_images, batch_size=10)):\n",
    "        src_image_ids   = [image_info.id   for image_info in src_batch]\n",
    "        src_image_names = [image_info.name for image_info in src_batch]\n",
    "        dst_image_ids   = [image_info.id   for image_info in dst_batch]\n",
    "        dst_image_names = [image_info.name for image_info in dst_batch]\n",
    "        \n",
    "        src_annotations = api.annotation.download_batch(src.id, src_image_ids)\n",
    "        dst_annotations = api.annotation.download_batch(dst.id, dst_image_ids)\n",
    "        assert len(src_annotations)==len(dst_annotations), \\\n",
    "                            'Lenghst of src_annotations and dst_annotations must be the same!'\n",
    "        for src_annotation, dst_annotation in zip(src_annotations, dst_annotations):\n",
    "            img_gts_bbs = plt2bb(src_annotation)\n",
    "            img_det_bbs = plt2bb(dst_annotation, bb_type = BBType.DETECTED)\n",
    "            dataset_gts_bbs.extend(img_gts_bbs)\n",
    "            dataset_det_bbs.extend(img_det_bbs)\n",
    "            image_mAPs = []\n",
    "            for iou in ious:\n",
    "                dict_res = get_pascalvoc_metrics(\n",
    "                            img_gts_bbs, img_det_bbs, iou, generate_table=True, \n",
    "                            method=MethodAveragePrecision.EVERY_POINT_INTERPOLATION\n",
    "                )\n",
    "                image_mAPs.append(dict_res)\n",
    "                \n",
    "            image_mAP.append(\n",
    "                struct(\n",
    "                    name    = src_annotation.image_name, \n",
    "                    mAP_05  = dict2tuple(image_mAPs[0], round_level), \n",
    "                    mAP_075 = dict2tuple(image_mAPs[1], round_level)\n",
    "                )\n",
    "            )\n",
    "    \n",
    "    project_gts_bbs.extend(dataset_gts_bbs)\n",
    "    project_det_bbs.extend(dataset_det_bbs)\n",
    "    \n",
    "    mAPs = []\n",
    "    for iou in ious:\n",
    "        dict_res = get_pascalvoc_metrics(\n",
    "                    dataset_gts_bbs, dataset_det_bbs, iou, generate_table=True, \n",
    "                    method=MethodAveragePrecision.ELEVEN_POINT_INTERPOLATION\n",
    "        )\n",
    "        mAPs.append(dict_res)\n",
    "        \n",
    "    dataset_mAP.append(\n",
    "        struct(\n",
    "            name    = src.name, \n",
    "            mAP_05  = dict2tuple(mAPs[0], round_level), \n",
    "            mAP_075 = dict2tuple(mAPs[1], round_level)\n",
    "        )\n",
    "    )\n",
    "\n",
    "mAPs = []\n",
    "for iou in ious:\n",
    "    dict_res = get_pascalvoc_metrics(\n",
    "                project_gts_bbs, project_det_bbs, iou, generate_table=True, \n",
    "                method=MethodAveragePrecision.EVERY_POINT_INTERPOLATION\n",
    "    )\n",
    "    mAPs.append(dict_res)\n",
    "    \n",
    "project_mAP.append(\n",
    "    struct(\n",
    "        name    = src_project.name, \n",
    "        mAP_05  = dict2tuple(mAPs[0], round_level), \n",
    "        mAP_075 = dict2tuple(mAPs[1], round_level)\n",
    "    )\n",
    ")"
   ]
  },
  {
   "cell_type": "code",
   "execution_count": 7,
   "id": "e0c3938a",
   "metadata": {},
   "outputs": [
    {
     "data": {
      "text/plain": [
       "[Set_mAP(name='Lemons-aug', mAP_05=Result(TP=302.0, FP=2.0, Precision=0.9934, Recall=0.9805, AP=0.9824), mAP_075=Result(TP=294.0, FP=10.0, Precision=0.9671, Recall=0.9545, AP=0.9413))]"
      ]
     },
     "execution_count": 7,
     "metadata": {},
     "output_type": "execute_result"
    }
   ],
   "source": [
    "project_mAP"
   ]
  },
  {
   "cell_type": "code",
   "execution_count": 8,
   "id": "d14ec172",
   "metadata": {},
   "outputs": [
    {
     "data": {
      "text/plain": [
       "[Set_mAP(name='ds1', mAP_05=Result(TP=302.0, FP=2.0, Precision=0.9934, Recall=0.9805, AP=0.9091), mAP_075=Result(TP=294.0, FP=10.0, Precision=0.9671, Recall=0.9545, AP=0.9002))]"
      ]
     },
     "execution_count": 8,
     "metadata": {},
     "output_type": "execute_result"
    }
   ],
   "source": [
    "dataset_mAP"
   ]
  },
  {
   "cell_type": "code",
   "execution_count": 9,
   "id": "572a8589",
   "metadata": {},
   "outputs": [
    {
     "data": {
      "text/plain": [
       "[Set_mAP(name='IMG_0748_05.jpeg', mAP_05=Result(TP=3.0, FP=0.0, Precision=1.0, Recall=1.0, AP=1.0), mAP_075=Result(TP=3.0, FP=0.0, Precision=1.0, Recall=1.0, AP=1.0)),\n",
       " Set_mAP(name='IMG_3861_08.jpeg', mAP_05=Result(TP=4.0, FP=0.0, Precision=1.0, Recall=1.0, AP=1.0), mAP_075=Result(TP=4.0, FP=0.0, Precision=1.0, Recall=1.0, AP=1.0)),\n",
       " Set_mAP(name='IMG_3861_06.jpeg', mAP_05=Result(TP=4.0, FP=0.0, Precision=1.0, Recall=1.0, AP=1.0), mAP_075=Result(TP=4.0, FP=0.0, Precision=1.0, Recall=1.0, AP=1.0)),\n",
       " Set_mAP(name='IMG_4451_07.jpeg', mAP_05=Result(TP=5.0, FP=1.0, Precision=0.8333, Recall=1.0, AP=0.975), mAP_075=Result(TP=4.0, FP=2.0, Precision=0.6667, Recall=0.8, AP=0.875)),\n",
       " Set_mAP(name='IMG_4451_09.jpeg', mAP_05=Result(TP=5.0, FP=0.0, Precision=1.0, Recall=1.0, AP=1.0), mAP_075=Result(TP=5.0, FP=0.0, Precision=1.0, Recall=1.0, AP=1.0)),\n",
       " Set_mAP(name='IMG_1836_05.jpeg', mAP_05=Result(TP=3.0, FP=0.0, Precision=1.0, Recall=1.0, AP=1.0), mAP_075=Result(TP=3.0, FP=0.0, Precision=1.0, Recall=1.0, AP=1.0)),\n",
       " Set_mAP(name='IMG_2084_11.jpeg', mAP_05=Result(TP=7.0, FP=0.0, Precision=1.0, Recall=1.0, AP=1.0), mAP_075=Result(TP=7.0, FP=0.0, Precision=1.0, Recall=1.0, AP=1.0)),\n",
       " Set_mAP(name='IMG_2084_08.jpeg', mAP_05=Result(TP=7.0, FP=0.0, Precision=1.0, Recall=1.0, AP=1.0), mAP_075=Result(TP=7.0, FP=0.0, Precision=1.0, Recall=1.0, AP=1.0)),\n",
       " Set_mAP(name='IMG_1836.jpeg', mAP_05=Result(TP=3.0, FP=0.0, Precision=1.0, Recall=1.0, AP=1.0), mAP_075=Result(TP=3.0, FP=0.0, Precision=1.0, Recall=1.0, AP=1.0)),\n",
       " Set_mAP(name='IMG_3861_10.jpeg', mAP_05=Result(TP=4.0, FP=0.0, Precision=1.0, Recall=1.0, AP=1.0), mAP_075=Result(TP=4.0, FP=0.0, Precision=1.0, Recall=1.0, AP=1.0)),\n",
       " Set_mAP(name='IMG_1836_03.jpeg', mAP_05=Result(TP=3.0, FP=0.0, Precision=1.0, Recall=1.0, AP=1.0), mAP_075=Result(TP=2.0, FP=1.0, Precision=0.6667, Recall=0.6667, AP=0.5)),\n",
       " Set_mAP(name='IMG_4451_02.jpeg', mAP_05=Result(TP=5.0, FP=0.0, Precision=1.0, Recall=1.0, AP=1.0), mAP_075=Result(TP=5.0, FP=0.0, Precision=1.0, Recall=1.0, AP=1.0)),\n",
       " Set_mAP(name='IMG_0748_01.jpeg', mAP_05=Result(TP=3.0, FP=0.0, Precision=1.0, Recall=1.0, AP=1.0), mAP_075=Result(TP=3.0, FP=0.0, Precision=1.0, Recall=1.0, AP=1.0)),\n",
       " Set_mAP(name='IMG_2084_05.jpeg', mAP_05=Result(TP=7.0, FP=0.0, Precision=1.0, Recall=1.0, AP=1.0), mAP_075=Result(TP=6.0, FP=1.0, Precision=0.8571, Recall=0.8571, AP=0.5)),\n",
       " Set_mAP(name='IMG_3861_05.jpeg', mAP_05=Result(TP=4.0, FP=0.0, Precision=1.0, Recall=1.0, AP=1.0), mAP_075=Result(TP=3.0, FP=1.0, Precision=0.75, Recall=0.75, AP=0.8333)),\n",
       " Set_mAP(name='IMG_2084_09.jpeg', mAP_05=Result(TP=6.0, FP=0.0, Precision=1.0, Recall=0.8571, AP=0.9167), mAP_075=Result(TP=6.0, FP=0.0, Precision=1.0, Recall=0.8571, AP=0.9167)),\n",
       " Set_mAP(name='IMG_0748_08.jpeg', mAP_05=Result(TP=3.0, FP=0.0, Precision=1.0, Recall=1.0, AP=1.0), mAP_075=Result(TP=3.0, FP=0.0, Precision=1.0, Recall=1.0, AP=1.0)),\n",
       " Set_mAP(name='IMG_2084_04.jpeg', mAP_05=Result(TP=7.0, FP=0.0, Precision=1.0, Recall=1.0, AP=1.0), mAP_075=Result(TP=7.0, FP=0.0, Precision=1.0, Recall=1.0, AP=1.0)),\n",
       " Set_mAP(name='IMG_2084_02.jpeg', mAP_05=Result(TP=6.0, FP=1.0, Precision=0.8571, Recall=1.0, AP=1.0), mAP_075=Result(TP=6.0, FP=1.0, Precision=0.8571, Recall=1.0, AP=1.0)),\n",
       " Set_mAP(name='IMG_4451_11.jpeg', mAP_05=Result(TP=4.0, FP=0.0, Precision=1.0, Recall=0.8, AP=0.875), mAP_075=Result(TP=3.0, FP=1.0, Precision=0.75, Recall=0.6, AP=0.75)),\n",
       " Set_mAP(name='IMG_0748_02.jpeg', mAP_05=Result(TP=3.0, FP=0.0, Precision=1.0, Recall=1.0, AP=1.0), mAP_075=Result(TP=3.0, FP=0.0, Precision=1.0, Recall=1.0, AP=1.0)),\n",
       " Set_mAP(name='IMG_3861_07.jpeg', mAP_05=Result(TP=4.0, FP=0.0, Precision=1.0, Recall=1.0, AP=1.0), mAP_075=Result(TP=4.0, FP=0.0, Precision=1.0, Recall=1.0, AP=1.0)),\n",
       " Set_mAP(name='IMG_8144.jpeg', mAP_05=Result(TP=4.0, FP=0.0, Precision=1.0, Recall=1.0, AP=1.0), mAP_075=Result(TP=4.0, FP=0.0, Precision=1.0, Recall=1.0, AP=1.0)),\n",
       " Set_mAP(name='IMG_0748_06.jpeg', mAP_05=Result(TP=3.0, FP=0.0, Precision=1.0, Recall=1.0, AP=1.0), mAP_075=Result(TP=3.0, FP=0.0, Precision=1.0, Recall=1.0, AP=1.0)),\n",
       " Set_mAP(name='IMG_4451_06.jpeg', mAP_05=Result(TP=5.0, FP=0.0, Precision=1.0, Recall=1.0, AP=1.0), mAP_075=Result(TP=5.0, FP=0.0, Precision=1.0, Recall=1.0, AP=1.0)),\n",
       " Set_mAP(name='IMG_1836_08.jpeg', mAP_05=Result(TP=2.0, FP=0.0, Precision=1.0, Recall=0.6667, AP=0.5), mAP_075=Result(TP=2.0, FP=0.0, Precision=1.0, Recall=0.6667, AP=0.5)),\n",
       " Set_mAP(name='IMG_2084_07.jpeg', mAP_05=Result(TP=6.0, FP=0.0, Precision=1.0, Recall=0.8571, AP=0.9167), mAP_075=Result(TP=6.0, FP=0.0, Precision=1.0, Recall=0.8571, AP=0.9167)),\n",
       " Set_mAP(name='IMG_4451_04.jpeg', mAP_05=Result(TP=5.0, FP=0.0, Precision=1.0, Recall=1.0, AP=1.0), mAP_075=Result(TP=5.0, FP=0.0, Precision=1.0, Recall=1.0, AP=1.0)),\n",
       " Set_mAP(name='IMG_8144_08.jpeg', mAP_05=Result(TP=4.0, FP=0.0, Precision=1.0, Recall=1.0, AP=1.0), mAP_075=Result(TP=4.0, FP=0.0, Precision=1.0, Recall=1.0, AP=1.0)),\n",
       " Set_mAP(name='IMG_1836_02.jpeg', mAP_05=Result(TP=3.0, FP=0.0, Precision=1.0, Recall=1.0, AP=1.0), mAP_075=Result(TP=3.0, FP=0.0, Precision=1.0, Recall=1.0, AP=1.0)),\n",
       " Set_mAP(name='IMG_4451_05.jpeg', mAP_05=Result(TP=5.0, FP=0.0, Precision=1.0, Recall=1.0, AP=1.0), mAP_075=Result(TP=4.0, FP=1.0, Precision=0.8, Recall=0.8, AP=0.5)),\n",
       " Set_mAP(name='IMG_1836_04.jpeg', mAP_05=Result(TP=3.0, FP=0.0, Precision=1.0, Recall=1.0, AP=1.0), mAP_075=Result(TP=2.0, FP=1.0, Precision=0.6667, Recall=0.6667, AP=0.75)),\n",
       " Set_mAP(name='IMG_8144_04.jpeg', mAP_05=Result(TP=4.0, FP=0.0, Precision=1.0, Recall=1.0, AP=1.0), mAP_075=Result(TP=4.0, FP=0.0, Precision=1.0, Recall=1.0, AP=1.0)),\n",
       " Set_mAP(name='IMG_3861.jpeg', mAP_05=Result(TP=4.0, FP=0.0, Precision=1.0, Recall=1.0, AP=1.0), mAP_075=Result(TP=4.0, FP=0.0, Precision=1.0, Recall=1.0, AP=1.0)),\n",
       " Set_mAP(name='IMG_1836_01.jpeg', mAP_05=Result(TP=3.0, FP=0.0, Precision=1.0, Recall=1.0, AP=1.0), mAP_075=Result(TP=3.0, FP=0.0, Precision=1.0, Recall=1.0, AP=1.0)),\n",
       " Set_mAP(name='IMG_3861_09.jpeg', mAP_05=Result(TP=4.0, FP=0.0, Precision=1.0, Recall=1.0, AP=1.0), mAP_075=Result(TP=4.0, FP=0.0, Precision=1.0, Recall=1.0, AP=1.0)),\n",
       " Set_mAP(name='IMG_8144_02.jpeg', mAP_05=Result(TP=4.0, FP=0.0, Precision=1.0, Recall=1.0, AP=1.0), mAP_075=Result(TP=4.0, FP=0.0, Precision=1.0, Recall=1.0, AP=1.0)),\n",
       " Set_mAP(name='IMG_8144_11.jpeg', mAP_05=Result(TP=4.0, FP=0.0, Precision=1.0, Recall=1.0, AP=1.0), mAP_075=Result(TP=3.0, FP=1.0, Precision=0.75, Recall=0.75, AP=0.8333)),\n",
       " Set_mAP(name='IMG_1836_10.jpeg', mAP_05=Result(TP=3.0, FP=0.0, Precision=1.0, Recall=1.0, AP=1.0), mAP_075=Result(TP=3.0, FP=0.0, Precision=1.0, Recall=1.0, AP=1.0)),\n",
       " Set_mAP(name='IMG_3861_11.jpeg', mAP_05=Result(TP=4.0, FP=0.0, Precision=1.0, Recall=1.0, AP=1.0), mAP_075=Result(TP=4.0, FP=0.0, Precision=1.0, Recall=1.0, AP=1.0)),\n",
       " Set_mAP(name='IMG_0748_04.jpeg', mAP_05=Result(TP=3.0, FP=0.0, Precision=1.0, Recall=1.0, AP=1.0), mAP_075=Result(TP=3.0, FP=0.0, Precision=1.0, Recall=1.0, AP=1.0)),\n",
       " Set_mAP(name='IMG_0748_03.jpeg', mAP_05=Result(TP=3.0, FP=0.0, Precision=1.0, Recall=1.0, AP=1.0), mAP_075=Result(TP=3.0, FP=0.0, Precision=1.0, Recall=1.0, AP=1.0)),\n",
       " Set_mAP(name='IMG_3861_04.jpeg', mAP_05=Result(TP=4.0, FP=0.0, Precision=1.0, Recall=1.0, AP=1.0), mAP_075=Result(TP=4.0, FP=0.0, Precision=1.0, Recall=1.0, AP=1.0)),\n",
       " Set_mAP(name='IMG_8144_07.jpeg', mAP_05=Result(TP=3.0, FP=0.0, Precision=1.0, Recall=1.0, AP=1.0), mAP_075=Result(TP=3.0, FP=0.0, Precision=1.0, Recall=1.0, AP=1.0)),\n",
       " Set_mAP(name='IMG_2084_10.jpeg', mAP_05=Result(TP=7.0, FP=0.0, Precision=1.0, Recall=1.0, AP=1.0), mAP_075=Result(TP=7.0, FP=0.0, Precision=1.0, Recall=1.0, AP=1.0)),\n",
       " Set_mAP(name='IMG_4451_03.jpeg', mAP_05=Result(TP=5.0, FP=0.0, Precision=1.0, Recall=1.0, AP=1.0), mAP_075=Result(TP=5.0, FP=0.0, Precision=1.0, Recall=1.0, AP=1.0)),\n",
       " Set_mAP(name='IMG_3861_02.jpeg', mAP_05=Result(TP=4.0, FP=0.0, Precision=1.0, Recall=1.0, AP=1.0), mAP_075=Result(TP=4.0, FP=0.0, Precision=1.0, Recall=1.0, AP=1.0)),\n",
       " Set_mAP(name='IMG_8144_06.jpeg', mAP_05=Result(TP=4.0, FP=0.0, Precision=1.0, Recall=1.0, AP=1.0), mAP_075=Result(TP=4.0, FP=0.0, Precision=1.0, Recall=1.0, AP=1.0)),\n",
       " Set_mAP(name='IMG_8144_01.jpeg', mAP_05=Result(TP=4.0, FP=0.0, Precision=1.0, Recall=1.0, AP=1.0), mAP_075=Result(TP=4.0, FP=0.0, Precision=1.0, Recall=1.0, AP=1.0)),\n",
       " Set_mAP(name='IMG_0748_10.jpeg', mAP_05=Result(TP=3.0, FP=0.0, Precision=1.0, Recall=1.0, AP=1.0), mAP_075=Result(TP=3.0, FP=0.0, Precision=1.0, Recall=1.0, AP=1.0)),\n",
       " Set_mAP(name='IMG_1836_07.jpeg', mAP_05=Result(TP=3.0, FP=0.0, Precision=1.0, Recall=1.0, AP=1.0), mAP_075=Result(TP=3.0, FP=0.0, Precision=1.0, Recall=1.0, AP=1.0)),\n",
       " Set_mAP(name='IMG_4451_08.jpeg', mAP_05=Result(TP=5.0, FP=0.0, Precision=1.0, Recall=1.0, AP=1.0), mAP_075=Result(TP=5.0, FP=0.0, Precision=1.0, Recall=1.0, AP=1.0)),\n",
       " Set_mAP(name='IMG_0748_11.jpeg', mAP_05=Result(TP=3.0, FP=0.0, Precision=1.0, Recall=1.0, AP=1.0), mAP_075=Result(TP=3.0, FP=0.0, Precision=1.0, Recall=1.0, AP=1.0)),\n",
       " Set_mAP(name='IMG_0748_07.jpeg', mAP_05=Result(TP=3.0, FP=0.0, Precision=1.0, Recall=1.0, AP=1.0), mAP_075=Result(TP=3.0, FP=0.0, Precision=1.0, Recall=1.0, AP=1.0)),\n",
       " Set_mAP(name='IMG_2084_03.jpeg', mAP_05=Result(TP=5.0, FP=0.0, Precision=1.0, Recall=0.8333, AP=0.9), mAP_075=Result(TP=5.0, FP=0.0, Precision=1.0, Recall=0.8333, AP=0.9)),\n",
       " Set_mAP(name='IMG_0748.jpeg', mAP_05=Result(TP=3.0, FP=0.0, Precision=1.0, Recall=1.0, AP=1.0), mAP_075=Result(TP=3.0, FP=0.0, Precision=1.0, Recall=1.0, AP=1.0)),\n",
       " Set_mAP(name='IMG_8144_05.jpeg', mAP_05=Result(TP=4.0, FP=0.0, Precision=1.0, Recall=1.0, AP=1.0), mAP_075=Result(TP=4.0, FP=0.0, Precision=1.0, Recall=1.0, AP=1.0)),\n",
       " Set_mAP(name='IMG_8144_09.jpeg', mAP_05=Result(TP=4.0, FP=0.0, Precision=1.0, Recall=1.0, AP=1.0), mAP_075=Result(TP=4.0, FP=0.0, Precision=1.0, Recall=1.0, AP=1.0)),\n",
       " Set_mAP(name='IMG_4451.jpeg', mAP_05=Result(TP=5.0, FP=0.0, Precision=1.0, Recall=1.0, AP=1.0), mAP_075=Result(TP=5.0, FP=0.0, Precision=1.0, Recall=1.0, AP=1.0)),\n",
       " Set_mAP(name='IMG_2084.jpeg', mAP_05=Result(TP=7.0, FP=0.0, Precision=1.0, Recall=1.0, AP=1.0), mAP_075=Result(TP=7.0, FP=0.0, Precision=1.0, Recall=1.0, AP=1.0)),\n",
       " Set_mAP(name='IMG_1836_06.jpeg', mAP_05=Result(TP=2.0, FP=0.0, Precision=1.0, Recall=1.0, AP=1.0), mAP_075=Result(TP=2.0, FP=0.0, Precision=1.0, Recall=1.0, AP=1.0)),\n",
       " Set_mAP(name='IMG_2084_06.jpeg', mAP_05=Result(TP=6.0, FP=0.0, Precision=1.0, Recall=0.8571, AP=0.9167), mAP_075=Result(TP=6.0, FP=0.0, Precision=1.0, Recall=0.8571, AP=0.9167)),\n",
       " Set_mAP(name='IMG_1836_11.jpeg', mAP_05=Result(TP=3.0, FP=0.0, Precision=1.0, Recall=1.0, AP=1.0), mAP_075=Result(TP=3.0, FP=0.0, Precision=1.0, Recall=1.0, AP=1.0)),\n",
       " Set_mAP(name='IMG_3861_03.jpeg', mAP_05=Result(TP=4.0, FP=0.0, Precision=1.0, Recall=1.0, AP=1.0), mAP_075=Result(TP=4.0, FP=0.0, Precision=1.0, Recall=1.0, AP=1.0)),\n",
       " Set_mAP(name='IMG_1836_09.jpeg', mAP_05=Result(TP=3.0, FP=0.0, Precision=1.0, Recall=1.0, AP=1.0), mAP_075=Result(TP=3.0, FP=0.0, Precision=1.0, Recall=1.0, AP=1.0)),\n",
       " Set_mAP(name='IMG_4451_10.jpeg', mAP_05=Result(TP=5.0, FP=0.0, Precision=1.0, Recall=1.0, AP=1.0), mAP_075=Result(TP=5.0, FP=0.0, Precision=1.0, Recall=1.0, AP=1.0)),\n",
       " Set_mAP(name='IMG_0748_09.jpeg', mAP_05=Result(TP=3.0, FP=0.0, Precision=1.0, Recall=1.0, AP=1.0), mAP_075=Result(TP=3.0, FP=0.0, Precision=1.0, Recall=1.0, AP=1.0)),\n",
       " Set_mAP(name='IMG_4451_01.jpeg', mAP_05=Result(TP=5.0, FP=0.0, Precision=1.0, Recall=1.0, AP=1.0), mAP_075=Result(TP=5.0, FP=0.0, Precision=1.0, Recall=1.0, AP=1.0)),\n",
       " Set_mAP(name='IMG_8144_03.jpeg', mAP_05=Result(TP=4.0, FP=0.0, Precision=1.0, Recall=1.0, AP=1.0), mAP_075=Result(TP=4.0, FP=0.0, Precision=1.0, Recall=1.0, AP=1.0)),\n",
       " Set_mAP(name='IMG_3861_01.jpeg', mAP_05=Result(TP=4.0, FP=0.0, Precision=1.0, Recall=1.0, AP=1.0), mAP_075=Result(TP=4.0, FP=0.0, Precision=1.0, Recall=1.0, AP=1.0)),\n",
       " Set_mAP(name='IMG_2084_01.jpeg', mAP_05=Result(TP=7.0, FP=0.0, Precision=1.0, Recall=1.0, AP=1.0), mAP_075=Result(TP=7.0, FP=0.0, Precision=1.0, Recall=1.0, AP=1.0)),\n",
       " Set_mAP(name='IMG_8144_10.jpeg', mAP_05=Result(TP=4.0, FP=0.0, Precision=1.0, Recall=1.0, AP=1.0), mAP_075=Result(TP=4.0, FP=0.0, Precision=1.0, Recall=1.0, AP=1.0))]"
      ]
     },
     "execution_count": 9,
     "metadata": {},
     "output_type": "execute_result"
    }
   ],
   "source": [
    "image_mAP"
   ]
  },
  {
   "cell_type": "code",
   "execution_count": null,
   "id": "c7fc3826",
   "metadata": {},
   "outputs": [],
   "source": []
  }
 ],
 "metadata": {
  "kernelspec": {
   "display_name": "Python 3",
   "language": "python",
   "name": "python3"
  },
  "language_info": {
   "codemirror_mode": {
    "name": "ipython",
    "version": 3
   },
   "file_extension": ".py",
   "mimetype": "text/x-python",
   "name": "python",
   "nbconvert_exporter": "python",
   "pygments_lexer": "ipython3",
   "version": "3.9.2"
  }
 },
 "nbformat": 4,
 "nbformat_minor": 5
}
