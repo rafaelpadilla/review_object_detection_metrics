{
 "cells": [
  {
   "cell_type": "code",
   "execution_count": 1,
   "id": "b5f53366",
   "metadata": {},
   "outputs": [],
   "source": [
    "import matplotlib.pyplot as plt\n",
    "import numpy as np\n",
    "import os\n",
    "\n",
    "import sys\n",
    "sys.path.append('../')\n",
    "import src.evaluators.coco_evaluator as coco_evaluator\n",
    "import src.evaluators.pascal_voc_evaluator as pascal_voc_evaluator\n",
    "import src.utils.converter as converter\n",
    "import src.utils.general_utils as general_utils\n",
    "from src.bounding_box import BoundingBox\n",
    "from src.utils.enumerators import (BBFormat, BBType, CoordinatesType,\n",
    "                                   MethodAveragePrecision)\n",
    "\n",
    "def plot_bb_per_classes(dict_bbs_per_class,\n",
    "                        horizontally=True,\n",
    "                        rotation=0,\n",
    "                        show=False,\n",
    "                        extra_title=''):\n",
    "    plt.close()\n",
    "    if horizontally:\n",
    "        ypos = np.arange(len(dict_bbs_per_class.keys()))\n",
    "        plt.barh(ypos, dict_bbs_per_class.values(), align='edge')\n",
    "        plt.yticks(ypos, dict_bbs_per_class.keys(), rotation=rotation)\n",
    "        plt.xlabel('amount of bounding boxes')\n",
    "        plt.ylabel('classes')\n",
    "    else:\n",
    "        plt.bar(dict_bbs_per_class.keys(), dict_bbs_per_class.values())\n",
    "        plt.xlabel('classes')\n",
    "        plt.ylabel('amount of bounding boxes')\n",
    "    plt.xticks(rotation=rotation)\n",
    "    title = f'Distribution of bounding boxes per class {extra_title}'\n",
    "    plt.title(title)\n",
    "    if show:\n",
    "        plt.tick_params(axis='x', labelsize=10) # Set the x-axis label size\n",
    "        plt.show(block=True)\n",
    "    return plt"
   ]
  },
  {
   "cell_type": "code",
   "execution_count": null,
   "id": "06146239",
   "metadata": {},
   "outputs": [],
   "source": []
  },
  {
   "cell_type": "code",
   "execution_count": 2,
   "id": "c973a9cd",
   "metadata": {
    "scrolled": false
   },
   "outputs": [],
   "source": [
    "#############################################################\n",
    "# DEFINE GROUNDTRUTHS AND DETECTIONS\n",
    "#############################################################\n",
    "# # VOC-2007\n",
    "# dir_imgs    = '../data/database/images'\n",
    "# dir_gts     = '../data/database/gts/pascalvoc_format'\n",
    "# dir_dets    = '../data/database/dets/abs_xyx2y2'\n",
    "# dir_outputs = '../data/database/images_with_bbs'\n",
    "# filepath_class_names = '../toyexample/voc.names'\n",
    "# # toyexample-cat\n",
    "dir_imgs    = '../toyexample/images'\n",
    "dir_gts     = '../toyexample/gts_vocpascal_format'\n",
    "dir_dets    = '../toyexample/dets_classname_abs_xyx2y2'\n",
    "dir_outputs = '../toyexample/images_with_bbs'\n",
    "filepath_class_names = None\n",
    "\n",
    "# supervisely-kiwi-lemon\n",
    "# dir_imgs    = '../toyexample/JPEGImages'\n",
    "# dir_gts     = '../toyexample/Annotations'\n",
    "# dir_dets    = '../toyexample/dets_classid_abs_xyx2y2_kiwi_lemons_noised'\n",
    "# dir_outputs = '../toyexample/images_with_bbs'\n",
    "# filepath_class_names = '../toyexample/kiwi_lemon.names'\n",
    "\n",
    "# Get annotations (ground truth and detections)\n",
    "gt_bbs  = converter.vocpascal2bb(dir_gts)\n",
    "det_bbs = converter.text2bb(annotations_path = dir_dets, \n",
    "                            bb_type          = BBType.DETECTED, \n",
    "                            bb_format        = BBFormat.XYX2Y2,# XYX2Y2\n",
    "                            type_coordinates = CoordinatesType.ABSOLUTE, \n",
    "                            img_dir          = dir_imgs,\n",
    "                            file_obj_names   = filepath_class_names)"
   ]
  },
  {
   "cell_type": "code",
   "execution_count": null,
   "id": "d731f0fa",
   "metadata": {},
   "outputs": [],
   "source": [
    "# #############################################################\n",
    "# # EVALUATE WITH COCO METRICS\n",
    "# #############################################################\n",
    "coco_res2 = coco_evaluator.get_coco_metrics(gt_bbs, det_bbs)\n",
    "for class_ in coco_res2:\n",
    "    print(class_, coco_res2[class_]['AP'])"
   ]
  },
  {
   "cell_type": "code",
   "execution_count": 3,
   "id": "48298da3",
   "metadata": {
    "scrolled": false
   },
   "outputs": [
    {
     "name": "stdout",
     "output_type": "stream",
     "text": [
      "{'per_class': {'cat': {'precision': array([1.        , 1.        , 1.        , 1.        , 1.        ,\n",
      "       1.        , 1.        , 1.        , 0.88888889, 0.9       ,\n",
      "       0.90909091, 0.91666667]), 'recall': array([0.08333333, 0.16666667, 0.25      , 0.33333333, 0.41666667,\n",
      "       0.5       , 0.58333333, 0.66666667, 0.66666667, 0.75      ,\n",
      "       0.83333333, 0.91666667]), 'AP': 0.8863636363636364, 'interpolated precision': [0, 0, 0.9166666666666666, 0.9166666666666666, 0.9166666666666666, 0.9166666666666666, 1.0, 1.0, 1.0, 1.0, 1.0, 1.0, 1.0, 0], 'interpolated recall': [1.0, 0.9, 0.9, 0.8, 0.7000000000000001, 0.6000000000000001, 0.6000000000000001, 0.5, 0.4, 0.30000000000000004, 0.2, 0.1, 0.0, 0], 'total positives': 12, 'total TP': 11.0, 'total FP': 1.0, 'method': <MethodAveragePrecision.ELEVEN_POINT_INTERPOLATION: 2>, 'iou': 0.5, 'table':           image confidence  TP  FP  acc TP  acc FP  precision    recall\n",
      "0   2008_006599     99.00%   1   0     1.0     0.0   1.000000  0.083333\n",
      "1   2010_004175     98.00%   1   0     2.0     0.0   1.000000  0.166667\n",
      "2   2007_003525     95.00%   1   0     3.0     0.0   1.000000  0.250000\n",
      "3   2007_005460     95.00%   1   0     4.0     0.0   1.000000  0.333333\n",
      "4   2007_000549     94.00%   1   0     5.0     0.0   1.000000  0.416667\n",
      "5   2007_004856     92.00%   1   0     6.0     0.0   1.000000  0.500000\n",
      "6   2008_002045     89.00%   1   0     7.0     0.0   1.000000  0.583333\n",
      "7   2007_009346     86.00%   1   0     8.0     0.0   1.000000  0.666667\n",
      "8   2007_000733     85.00%   0   1     8.0     1.0   0.888889  0.666667\n",
      "9   2008_002045     82.00%   1   0     9.0     1.0   0.900000  0.750000\n",
      "10  2007_005688     81.00%   1   0    10.0     1.0   0.909091  0.833333\n",
      "11  2007_009346     76.00%   1   0    11.0     1.0   0.916667  0.916667}}, 'mAP': 0.8863636363636364}\n"
     ]
    },
    {
     "data": {
      "image/png": "[encoded data removed]",
      "text/plain": [
       "<Figure size 432x288 with 1 Axes>"
      ]
     },
     "metadata": {
      "needs_background": "light"
     },
     "output_type": "display_data"
    },
    {
     "name": "stdout",
     "output_type": "stream",
     "text": [
      "{'per_class': {'cat': {'precision': array([1.        , 0.5       , 0.66666667, 0.5       , 0.6       ,\n",
      "       0.66666667, 0.71428571, 0.75      , 0.66666667, 0.7       ,\n",
      "       0.63636364, 0.66666667]), 'recall': array([0.08333333, 0.08333333, 0.16666667, 0.16666667, 0.25      ,\n",
      "       0.33333333, 0.41666667, 0.5       , 0.5       , 0.58333333,\n",
      "       0.58333333, 0.66666667]), 'AP': 0.4924242424242424, 'interpolated precision': [0, 0, 0, 0, 0, 0.6666666666666666, 0.6666666666666666, 0.75, 0.75, 0.75, 0.75, 0.75, 0.75, 1.0, 0], 'interpolated recall': [1.0, 0.9, 0.8, 0.7000000000000001, 0.6000000000000001, 0.6000000000000001, 0.5, 0.5, 0.4, 0.30000000000000004, 0.2, 0.1, 0.0, 0.0, 0], 'total positives': 12, 'total TP': 8.0, 'total FP': 4.0, 'method': <MethodAveragePrecision.ELEVEN_POINT_INTERPOLATION: 2>, 'iou': 0.75, 'table':           image confidence  TP  FP  acc TP  acc FP  precision    recall\n",
      "0   2008_006599     99.00%   1   0     1.0     0.0   1.000000  0.083333\n",
      "1   2010_004175     98.00%   0   1     1.0     1.0   0.500000  0.083333\n",
      "2   2007_003525     95.00%   1   0     2.0     1.0   0.666667  0.166667\n",
      "3   2007_005460     95.00%   0   1     2.0     2.0   0.500000  0.166667\n",
      "4   2007_000549     94.00%   1   0     3.0     2.0   0.600000  0.250000\n",
      "5   2007_004856     92.00%   1   0     4.0     2.0   0.666667  0.333333\n",
      "6   2008_002045     89.00%   1   0     5.0     2.0   0.714286  0.416667\n",
      "7   2007_009346     86.00%   1   0     6.0     2.0   0.750000  0.500000\n",
      "8   2007_000733     85.00%   0   1     6.0     3.0   0.666667  0.500000\n",
      "9   2008_002045     82.00%   1   0     7.0     3.0   0.700000  0.583333\n",
      "10  2007_005688     81.00%   0   1     7.0     4.0   0.636364  0.583333\n",
      "11  2007_009346     76.00%   1   0     8.0     4.0   0.666667  0.666667}}, 'mAP': 0.4924242424242424}\n"
     ]
    },
    {
     "data": {
      "image/png": "[encoded data removed]",
      "text/plain": [
       "<Figure size 432x288 with 1 Axes>"
      ]
     },
     "metadata": {
      "needs_background": "light"
     },
     "output_type": "display_data"
    }
   ],
   "source": [
    "#############################################################\n",
    "# EVALUATE WITH VOC PASCAL METRICS\n",
    "#############################################################\n",
    "ious = [0.5, 0.75] # \n",
    "voc_res = {}\n",
    "for iou in ious:\n",
    "    dict_res = pascal_voc_evaluator.get_pascalvoc_metrics(gt_bbs, det_bbs, iou, generate_table=True, \n",
    "                                                          method=MethodAveragePrecision.ELEVEN_POINT_INTERPOLATION)\n",
    "    print(dict_res)\n",
    "    voc_res = dict_res['per_class']\n",
    "    pascal_voc_evaluator.plot_precision_recall_curves(voc_res, showInterpolatedPrecision=True, showAP=True)"
   ]
  },
  {
   "cell_type": "code",
   "execution_count": null,
   "id": "221b6563",
   "metadata": {},
   "outputs": [],
   "source": []
  }
 ],
 "metadata": {
  "kernelspec": {
   "display_name": "Python 3",
   "language": "python",
   "name": "python3"
  },
  "language_info": {
   "codemirror_mode": {
    "name": "ipython",
    "version": 3
   },
   "file_extension": ".py",
   "mimetype": "text/x-python",
   "name": "python",
   "nbconvert_exporter": "python",
   "pygments_lexer": "ipython3",
   "version": "3.9.2"
  }
 },
 "nbformat": 4,
 "nbformat_minor": 5
}
